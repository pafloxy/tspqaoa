{
 "cells": [
  {
   "cell_type": "code",
   "execution_count": 1,
   "metadata": {},
   "outputs": [],
   "source": [
    "from qulacs import QuantumCircuit, QuantumCircuitSimulator, ParametricQuantumCircuit, QuantumState\n",
    "import numpy as np\n",
    "import networkx as nx\n",
    "from collections_extended import CountsView\n",
    "from collections import Counter\n",
    "from time import process_time"
   ]
  },
  {
   "cell_type": "code",
   "execution_count": 2,
   "metadata": {},
   "outputs": [],
   "source": [
    "from tqdm import tqdm\n",
    "from qulacs_core.gate import ParametricPauliRotation"
   ]
  },
  {
   "cell_type": "code",
   "execution_count": 3,
   "metadata": {},
   "outputs": [],
   "source": [
    "int_to_binstr = lambda x, len :  bin(x)[2:].zfill(len)"
   ]
  },
  {
   "cell_type": "code",
   "execution_count": 3,
   "metadata": {},
   "outputs": [],
   "source": [
    "##  RE-DEFINE SUBROUTINES  ##\n",
    "\n",
    "def get_tsp_init_circuit(G: nx.Graph , init_state=None, encoding=\"onehot\"):\n",
    "    \"\"\"\n",
    "    Generates an inti state.\n",
    "\n",
    "    Parameters\n",
    "    ----------\n",
    "    G : networkx.Graph\n",
    "        Graph to solve TSP on\n",
    "    init_state : list of integers\n",
    "\n",
    "    Returns\n",
    "    -------\n",
    "    qc : ParametricQuantumCircuit\n",
    "        Quantum circuit implementing the TSP phase unitary\n",
    "    \"\"\"\n",
    "    if encoding == \"onehot\" and init_state:\n",
    "        N = G.number_of_nodes()\n",
    "        assert N == len(init_state)\n",
    "        qc = ParametricQuantumCircuit(N**2)\n",
    "        for i in range(N):\n",
    "            qc.add_X_gate(i*N + init_state[i])\n",
    "        return qc\n",
    "\n",
    "    elif encoding == \"onehot\":\n",
    "        N = G.number_of_nodes()\n",
    "        qc = ParametricQuantumCircuit(N**2)\n",
    "        for i in range(N):\n",
    "            qc.add_X_gate(i*N+i)\n",
    "        return qc"
   ]
  },
  {
   "cell_type": "code",
   "execution_count": 4,
   "metadata": {},
   "outputs": [],
   "source": [
    "def _update_ordering_swap_partial_mixing_circuit(\n",
    "    qstate, G, i, j, u, v, beta, T, encoding=\"onehot\", structure=\"pauli rotations\"):\n",
    "    \"\"\"\n",
    "    Generates an ordering swap partial mixer for the TSP mixing unitary.\n",
    "\n",
    "    Parameters\n",
    "    ----------\n",
    "    qstate : qulacs.QuantumState\n",
    "             current quantum state\n",
    "    G : networkx.Graph\n",
    "        Graph to solve TSP on\n",
    "    i, j :\n",
    "        Positions in the ordering to be swapped\n",
    "    u, v :\n",
    "        Cities to be swapped\n",
    "    beta :\n",
    "        QAOA angle\n",
    "    T :\n",
    "        Number of Trotter steps\n",
    "    encoding : string, default \"onehot\"\n",
    "        Type of encoding for the city ordering\n",
    "\n",
    "    Returns\n",
    "    -------\n",
    "    qstate\n",
    "    \"\"\"\n",
    "    if encoding == \"onehot\" and structure == \"pauli rotations\":\n",
    "        N = G.number_of_nodes()\n",
    "        dt = beta/T\n",
    "        # qc = ParametricQuantumCircuit(N**2)\n",
    "        qui = (N*i + u)\n",
    "        qvj = (N*j + v)\n",
    "        quj = (N*j + u)\n",
    "        qvi = (N*i + v)\n",
    "        for t in range(T):\n",
    "            # append_4_qubit_pauli_rotation_term(qc, qui, qvj, quj, qvi, dt, \"xxxx\")\n",
    "            # qc.add_parametric_multi_Pauli_rotation_gate([qui, qvj, quj, qvi], [1,1,1,1], dt)\n",
    "            ParametricPauliRotation([qui, qvj, quj, qvi], [1,1,1,1], dt).update_quantum_state(qstate)\n",
    "            # append_4_qubit_pauli_rotation_term(qc, qui, qvj, quj, qvi, -dt, \"xxyy\")\n",
    "            # qc.add_parametric_multi_Pauli_rotation_gate([qui, qvj, quj, qvi], [1,1,2,2], -dt)\n",
    "            ParametricPauliRotation([qui, qvj, quj, qvi], [1,1,2,2], -dt).update_quantum_state(qstate)\n",
    "            # append_4_qubit_pauli_rotation_term(qc, qui, qvj, quj, qvi, dt, \"xyxy\")\n",
    "            # qc.add_parametric_multi_Pauli_rotation_gate([qui, qvj, quj, qvi], [1,2,1,2], dt)\n",
    "            ParametricPauliRotation([qui, qvj, quj, qvi], [1,2,1,2], dt).update_quantum_state(qstate)\n",
    "            # append_4_qubit_pauli_rotation_term(qc, qui, qvj, quj, qvi, dt, \"xyyx\")\n",
    "            # qc.add_parametric_multi_Pauli_rotation_gate([qui, qvj, quj, qvi], [1,2,2,1], dt)\n",
    "            ParametricPauliRotation([qui, qvj, quj, qvi], [1,2,2,1], dt).update_quantum_state(qstate)\n",
    "            # append_4_qubit_pauli_rotation_term(qc, qui, qvj, quj, qvi, dt, \"yxxy\")\n",
    "            # qc.add_parametric_multi_Pauli_rotation_gate([qui, qvj, quj, qvi], [2,1,1,2], dt)\n",
    "            ParametricPauliRotation([qui, qvj, quj, qvi], [2,1,1,2], dt).update_quantum_state(qstate)\n",
    "            # append_4_qubit_pauli_rotation_term(qc, qui, qvj, quj, qvi, dt, \"yxyx\")\n",
    "            # qc.add_parametric_multi_Pauli_rotation_gate([qui, qvj, quj, qvi], [2,1,2,1], dt)\n",
    "            ParametricPauliRotation([qui, qvj, quj, qvi], [2,1,2,1], dt).update_quantum_state(qstate)\n",
    "            # append_4_qubit_pauli_rotation_term(qc, qui, qvj, quj, qvi, -dt, \"yyxx\")\n",
    "            # qc.add_parametric_multi_Pauli_rotation_gate([qui, qvj, quj, qvi], [2,2,1,1], -dt)\n",
    "            ParametricPauliRotation([qui, qvj, quj, qvi], [2,2,1,1], -dt).update_quantum_state(qstate)\n",
    "            # append_4_qubit_pauli_rotation_term(qc, qui, qvj, quj, qvi, dt, \"yyyy\")\n",
    "            # qc.add_parametric_multi_Pauli_rotation_gate([qui, qvj, quj, qvi], [2,2,2,2], dt)\n",
    "            ParametricPauliRotation([qui, qvj, quj, qvi], [2,2,2,2], dt).update_quantum_state(qstate)\n",
    "        return None\n",
    "\n",
    "def _update_simultaneous_ordering_swap_mixer(qstate, G, beta, T1, T2, encoding=\"onehot\"):\n",
    "    if encoding == \"onehot\":\n",
    "        N = G.number_of_nodes()\n",
    "        dt = beta/T2\n",
    "        # qc = ParametricQuantumCircuit(N**2)\n",
    "        for t in range(T2):\n",
    "            for i in range(N-1):\n",
    "                for u, v in G.edges:\n",
    "                    _update_ordering_swap_partial_mixing_circuit(qstate,\n",
    "                                G, i, i+1, u, v, dt, T1, encoding=\"onehot\")\n",
    "            for u, v in G.edges:\n",
    "                _update_ordering_swap_partial_mixing_circuit(qstate,\n",
    "                                G, N-1, 0, u, v, dt, T1, encoding=\"onehot\")\n",
    "        return None"
   ]
  },
  {
   "cell_type": "code",
   "execution_count": 5,
   "metadata": {},
   "outputs": [],
   "source": [
    "def _update_tsp_cost_operator_circuit(qstate,\n",
    "    G, gamma, pen, encoding=\"onehot\", structure= \"zz rotation\"):\n",
    "    \"\"\"\n",
    "    Generates a circuit for the TSP phase unitary with optional penalty.\n",
    "\n",
    "    Parameters\n",
    "    ----------\n",
    "    qstate : qulacs.QuantumState\n",
    "             current quantum state\n",
    "    G : networkx.Graph\n",
    "        Graph to solve TSP on\n",
    "    gamma :\n",
    "        QAOA parameter gamma\n",
    "    pen :\n",
    "        Penalty for edges with no roads\n",
    "    encoding : string, default \"onehot\"\n",
    "        Type of encoding for the city ordering\n",
    "    translate :\n",
    "        dictionary with city encoding (ascending numerical to problem encoding)\n",
    "\n",
    "    Returns\n",
    "    -------\n",
    "    qc : qiskit.QuantumCircuit\n",
    "        Quantum circuit implementing the TSP phase unitary\n",
    "    \"\"\"\n",
    "    if encoding == \"onehot\" and structure == \"zz rotation\":\n",
    "        N = G.number_of_nodes()\n",
    "        if not nx.is_weighted(G):\n",
    "            raise ValueError(\"Provided graph is not weighted\")\n",
    "        # qc = ParametricQuantumCircuit(N**2)\n",
    "        for n in range(N): # cycle over all cities in the input ordering\n",
    "            for u in range(N):\n",
    "                for v in range(N): #road from city v to city u\n",
    "                    q1 = (n*N + u) % (N**2)\n",
    "                    q2 = ((n+1)*N + v) % (N**2)\n",
    "                    if G.has_edge(u, v):\n",
    "                        # append_zz_term(qc, q1, q2, gamma * G[u][v][\"weight\"])\n",
    "                        ParametricPauliRotation([q1,q2], [3,3], gamma * G[u][v][\"weight\"]).update_quantum_state(qstate)\n",
    "                    else:\n",
    "                        # append_zz_term(qc, q1, q2, gamma * pen)\n",
    "                        ParametricPauliRotation([q1,q2], [3,3], gamma * pen).update_quantum_state(qstate)\n",
    "        return None\n",
    "    # if encoding == \"onehot\" and structure == \"controlled z\":\n",
    "    #     N = G.number_of_nodes()\n",
    "    #     if not nx.is_weighted(G):\n",
    "    #         raise ValueError(\"Provided graph is not weighted\")\n",
    "    #     qc = QuantumCircuit(N**2)\n",
    "    #     for n in range(N): # cycle over all cities in the input ordering\n",
    "    #         for u in range(N):\n",
    "    #             for v in range(N): #road from city v to city u\n",
    "    #                 q1 = (n*N + u) % (N**2)\n",
    "    #                 q2 = ((n+1)*N + v) % (N**2)\n",
    "    #                 if G.has_edge(u, v):\n",
    "    #                     qc.crz(gamma * G[u][v][\"weight\"], q1, q2)\n",
    "    #                 else:\n",
    "    #                     qc.crz(gamma * pen, q1, q2)\n",
    "    #     return qc\n"
   ]
  },
  {
   "cell_type": "code",
   "execution_count": 6,
   "metadata": {},
   "outputs": [],
   "source": [
    "def _update_tsp_qaoa_circuit(qstate,\n",
    "    G, beta, gamma, T1=5, T2=5, pen=2,\n",
    "    transpile_to_basis=True, save_state=True, encoding=\"onehot\"\n",
    "):\n",
    "    if encoding == \"onehot\":\n",
    "        \n",
    "        assert len(beta) == len(gamma)\n",
    "        p = len(beta)  # infering number of QAOA steps from the parameters passed\n",
    "        N = G.number_of_nodes()\n",
    "    \n",
    "        \n",
    "        # prepare the init state in onehot encoding\n",
    "        get_tsp_init_circuit(G, encoding=\"onehot\").update_quantum_state(qstate)\n",
    "\n",
    "        # second, apply p alternating operators\n",
    "        for i in range(p):\n",
    "            _update_tsp_cost_operator_circuit(qstate, G, gamma[i], pen, encoding=\"onehot\")\n",
    "            _update_simultaneous_ordering_swap_mixer(qstate, G, beta[i], T1, T2, encoding=\"onehot\")\n",
    "            \n",
    "        # if transpile_to_basis:\n",
    "        #     qc = transpile(qc, optimization_level=0, basis_gates=[\"u1\", \"u2\", \"u3\", \"cx\"])\n",
    "        # if save_state:\n",
    "        #     qc.save_state()\n",
    "\n",
    "        return None\n",
    "\n",
    "\n",
    "\n"
   ]
  },
  {
   "cell_type": "code",
   "execution_count": 39,
   "metadata": {},
   "outputs": [],
   "source": [
    "n = 5\n",
    "G = nx.complete_graph(n)\n",
    "for (u,v,w) in G.edges(data=True):\n",
    "    w['weight'] = np.random.randn()\n",
    "\n",
    "qstate = QuantumState(n**2)\n"
   ]
  },
  {
   "cell_type": "code",
   "execution_count": 40,
   "metadata": {},
   "outputs": [
    {
     "data": {
      "text/plain": [
       "{'1000001000001000001000001': 450,\n",
       " '1000001000000100010000001': 99,\n",
       " '101000001000001010000': 93,\n",
       " '1000000100010000001000001': 86,\n",
       " '100010000001000001000001': 89,\n",
       " '101000000100010010000': 12,\n",
       " '1001000000010010010000': 1,\n",
       " '1000000010010000010000001': 3,\n",
       " '100010010000010010000': 2,\n",
       " '1000001000001000000100010': 76,\n",
       " '100010000001000000100010': 14,\n",
       " '100100010000001010000': 14,\n",
       " '100010000000100010000001': 13,\n",
       " '10010000000100100000001': 3,\n",
       " '10010000010000000100010': 2,\n",
       " '1000000100010000000100010': 19,\n",
       " '100010000000010010000010': 2,\n",
       " '1000000100000100100000001': 3,\n",
       " '10010000010000001000001': 7,\n",
       " '110000001000001001000': 4,\n",
       " '100000010100000010000001': 1,\n",
       " '1000001000000010010000010': 8,\n",
       " '100000001001000001010000': 3,\n",
       " '101000001001000000010': 3,\n",
       " '10001000000100000110000': 1,\n",
       " '1001000001000000110000': 3,\n",
       " '100000100100000000100010': 2,\n",
       " '10000001010000001010000': 1,\n",
       " '1000001000000100000100100': 4,\n",
       " '1010000001000100000001': 1,\n",
       " '110000000100010001000': 2,\n",
       " '1000100010000000110000': 2,\n",
       " '101000000101000000100': 1}"
      ]
     },
     "execution_count": 40,
     "metadata": {},
     "output_type": "execute_result"
    }
   ],
   "source": [
    "tsp_qstate = _update_tsp_qaoa_circuit(qstate,G, [0.1], [0.1])\n",
    "get_sample_counts(qstate)"
   ]
  },
  {
   "cell_type": "code",
   "execution_count": 8,
   "metadata": {},
   "outputs": [],
   "source": [
    "n = tsp.get_qubit_count()\n",
    "state = QuantumState(n)"
   ]
  },
  {
   "cell_type": "code",
   "execution_count": 9,
   "metadata": {},
   "outputs": [],
   "source": [
    "# print(state)"
   ]
  },
  {
   "cell_type": "code",
   "execution_count": 10,
   "metadata": {},
   "outputs": [],
   "source": [
    "tsp.update_quantum_state(state)\n",
    "# print(state);"
   ]
  },
  {
   "cell_type": "code",
   "execution_count": 37,
   "metadata": {},
   "outputs": [],
   "source": [
    "def get_sample_counts(qstate: QuantumState, shots:int= 1024):\n",
    "    return dict([ (int_to_binstr(item, n) ,counts)  for item, counts in Counter(qstate.sampling(shots)).items()])\n",
    "\n"
   ]
  },
  {
   "cell_type": "code",
   "execution_count": 11,
   "metadata": {},
   "outputs": [
    {
     "data": {
      "text/plain": [
       "{'1000001000001000001000001': 457,\n",
       " '0000101000001000001010000': 87,\n",
       " '0000100100010000001010000': 13,\n",
       " '0100010000001000001000001': 79,\n",
       " '1000001000000100010000001': 80,\n",
       " '0000101000000100010010000': 20,\n",
       " '0100010000000100010000001': 14,\n",
       " '1000001000001000000100010': 100,\n",
       " '1000000100010000000100010': 10,\n",
       " '1000000100010000001000001': 91,\n",
       " '1000000010010000010000001': 4,\n",
       " '0000110000001000001001000': 6,\n",
       " '0100010000001000000100010': 21,\n",
       " '0000100010010000010010000': 2,\n",
       " '0100010000000010010000010': 2,\n",
       " '0001000100010000000110000': 2,\n",
       " '0000110000000100010001000': 1,\n",
       " '0100000100100000001000001': 4,\n",
       " '1000001000000100000100100': 1,\n",
       " '1000001000000010010000010': 6,\n",
       " '0010010000010000001000001': 6,\n",
       " '0001010000010000010000001': 1,\n",
       " '0100000001001000001010000': 1,\n",
       " '0001001000001000000110000': 5,\n",
       " '0001010000001000000101000': 1,\n",
       " '0001001000000010010010000': 1,\n",
       " '1000000100000010100000010': 1,\n",
       " '1000000010001000100000001': 1,\n",
       " '0001001000100000010000001': 1,\n",
       " '1000000010010000000100100': 1,\n",
       " '0000100100010001000000010': 1,\n",
       " '0100000100100000000100010': 1,\n",
       " '0010010000010000000100010': 1,\n",
       " '0000101000001001000000010': 2}"
      ]
     },
     "execution_count": 11,
     "metadata": {},
     "output_type": "execute_result"
    }
   ],
   "source": [
    "s = state.sampling(1024)\n",
    "counts = dict([ (int_to_binstr(item, n) ,counts)  for item, counts in Counter(s).items()])\n",
    "counts"
   ]
  },
  {
   "cell_type": "code",
   "execution_count": 12,
   "metadata": {},
   "outputs": [],
   "source": [
    "from tspqaoa.qaoa import compute_tsp_cost_expectation"
   ]
  },
  {
   "cell_type": "code",
   "execution_count": 13,
   "metadata": {},
   "outputs": [],
   "source": [
    "def get_tsp_expectation_value_method(G, pen, i_n=[]):\n",
    "    \n",
    "    \"\"\"\n",
    "    Runs parametrized circuit\n",
    "    \n",
    "    Args:\n",
    "        G: networkx graph\n",
    "        pen: int\n",
    "            penalty for wrong formatted paths\n",
    "        init_state: string\n",
    "            initial state in the onehot encoding\n",
    "    \n",
    "    Returns :\n",
    "        execute_circ method\n",
    "    \"\"\"\n",
    "    \n",
    "    #backend = Aer.get_backend('qasm_simulator')\n",
    "    # aersim = AerSimulator(device=device)\n",
    "    \n",
    "    def execute_circ(angles):\n",
    "        n = len(angles)\n",
    "        assert n%2 == 0\n",
    "        beta = angles[0:int(n/2)]\n",
    "        gamma = angles[int(n/2):n]\n",
    "        \n",
    "        qc = get_tsp_qaoa_circuit(G, beta, gamma)\n",
    "        \n",
    "        qstate = QuantumState( qc.get_qubit_count() )\n",
    "        qc.update_quantum_state(qstate)\n",
    "        \n",
    "        ## sample from state ##\n",
    "        num_samples = 1024\n",
    "        samples = qstate.sampling(num_samples)\n",
    "        counts = dict([ (int_to_binstr(item, n) ,counts)  for item, counts in Counter(samples).items()])\n",
    "\n",
    "        return compute_tsp_cost_expectation(counts, G, pen, i_n)\n",
    "    \n",
    "    return execute_circ"
   ]
  },
  {
   "cell_type": "code",
   "execution_count": 14,
   "metadata": {},
   "outputs": [],
   "source": [
    "tsp_exp  = get_tsp_expectation_value_method(G, 0.004, [3] )"
   ]
  },
  {
   "cell_type": "code",
   "execution_count": 9,
   "metadata": {},
   "outputs": [
    {
     "name": "stdout",
     "output_type": "stream",
     "text": [
      "time  8892.005384724\n"
     ]
    }
   ],
   "source": [
    "### scaling tests ###\n",
    "\n",
    "n = 25\n",
    "qc = ParametricQuantumCircuit(n)\n",
    "\n",
    "for _ in range(10000):\n",
    "    i = np.random.randint(0,int(n/4)); j = np.random.randint(int(n/4)+1, int(2*n/4)) % n\n",
    "    k = np.random.randint(int(2*n/4)+1, 3*n/4) % n ; l = np.random.randint(int(3*n/4)+1, n) % n  \n",
    "    \n",
    "    qc.add_parametric_multi_Pauli_rotation_gate([i,j,k,l],[1,1,1,1], np.random.uniform(low=0,high= 2*np.pi) )\n",
    "\n",
    "\n",
    "qs = QuantumState(n)\n",
    "ti = process_time()\n",
    "qc.update_quantum_state(qs)\n",
    "ti = process_time() - ti\n",
    "print('time ', ti)"
   ]
  },
  {
   "cell_type": "code",
   "execution_count": 10,
   "metadata": {},
   "outputs": [
    {
     "name": "stderr",
     "output_type": "stream",
     "text": [
      " 34%|███▍      | 3426/10000 [08:29<16:17,  6.72it/s]\n"
     ]
    },
    {
     "ename": "KeyboardInterrupt",
     "evalue": "",
     "output_type": "error",
     "traceback": [
      "\u001b[0;31m---------------------------------------------------------------------------\u001b[0m",
      "\u001b[0;31mKeyboardInterrupt\u001b[0m                         Traceback (most recent call last)",
      "\u001b[1;32m/home/rajarsi/Documents/QLS@PGora/Codes/tspqaoa-git/my-trials/qulacs-trialv2.ipynb Cell 19\u001b[0m in \u001b[0;36m<cell line: 6>\u001b[0;34m()\u001b[0m\n\u001b[1;32m      <a href='vscode-notebook-cell:/home/rajarsi/Documents/QLS%40PGora/Codes/tspqaoa-git/my-trials/qulacs-trialv2.ipynb#X24sZmlsZQ%3D%3D?line=7'>8</a>\u001b[0m     i \u001b[39m=\u001b[39m np\u001b[39m.\u001b[39mrandom\u001b[39m.\u001b[39mrandint(\u001b[39m0\u001b[39m,\u001b[39mint\u001b[39m(n\u001b[39m/\u001b[39m\u001b[39m4\u001b[39m)); j \u001b[39m=\u001b[39m np\u001b[39m.\u001b[39mrandom\u001b[39m.\u001b[39mrandint(\u001b[39mint\u001b[39m(n\u001b[39m/\u001b[39m\u001b[39m4\u001b[39m)\u001b[39m+\u001b[39m\u001b[39m1\u001b[39m, \u001b[39mint\u001b[39m(\u001b[39m2\u001b[39m\u001b[39m*\u001b[39mn\u001b[39m/\u001b[39m\u001b[39m4\u001b[39m)) \u001b[39m%\u001b[39m n\n\u001b[1;32m      <a href='vscode-notebook-cell:/home/rajarsi/Documents/QLS%40PGora/Codes/tspqaoa-git/my-trials/qulacs-trialv2.ipynb#X24sZmlsZQ%3D%3D?line=8'>9</a>\u001b[0m     k \u001b[39m=\u001b[39m np\u001b[39m.\u001b[39mrandom\u001b[39m.\u001b[39mrandint(\u001b[39mint\u001b[39m(\u001b[39m2\u001b[39m\u001b[39m*\u001b[39mn\u001b[39m/\u001b[39m\u001b[39m4\u001b[39m)\u001b[39m+\u001b[39m\u001b[39m1\u001b[39m, \u001b[39m3\u001b[39m\u001b[39m*\u001b[39mn\u001b[39m/\u001b[39m\u001b[39m4\u001b[39m) \u001b[39m%\u001b[39m n ; l \u001b[39m=\u001b[39m np\u001b[39m.\u001b[39mrandom\u001b[39m.\u001b[39mrandint(\u001b[39mint\u001b[39m(\u001b[39m3\u001b[39m\u001b[39m*\u001b[39mn\u001b[39m/\u001b[39m\u001b[39m4\u001b[39m)\u001b[39m+\u001b[39m\u001b[39m1\u001b[39m, n) \u001b[39m%\u001b[39m n  \n\u001b[0;32m---> <a href='vscode-notebook-cell:/home/rajarsi/Documents/QLS%40PGora/Codes/tspqaoa-git/my-trials/qulacs-trialv2.ipynb#X24sZmlsZQ%3D%3D?line=10'>11</a>\u001b[0m     ParametricPauliRotation([i,j,k,l],[\u001b[39m1\u001b[39;49m,\u001b[39m1\u001b[39;49m,\u001b[39m1\u001b[39;49m,\u001b[39m1\u001b[39;49m],np\u001b[39m.\u001b[39;49mrandom\u001b[39m.\u001b[39;49muniform(low\u001b[39m=\u001b[39;49m\u001b[39m0\u001b[39;49m,high\u001b[39m=\u001b[39;49m \u001b[39m2\u001b[39;49m\u001b[39m*\u001b[39;49mnp\u001b[39m.\u001b[39;49mpi))\u001b[39m.\u001b[39;49mupdate_quantum_state(qss)\n\u001b[1;32m     <a href='vscode-notebook-cell:/home/rajarsi/Documents/QLS%40PGora/Codes/tspqaoa-git/my-trials/qulacs-trialv2.ipynb#X24sZmlsZQ%3D%3D?line=14'>15</a>\u001b[0m \u001b[39mprint\u001b[39m(\u001b[39m'\u001b[39m\u001b[39m time \u001b[39m\u001b[39m'\u001b[39m, process_time() \u001b[39m-\u001b[39m ti )\n",
      "\u001b[0;31mKeyboardInterrupt\u001b[0m: "
     ]
    }
   ],
   "source": [
    "n = 25\n",
    "# qc = ParametricQuantumCircuit(n)\n",
    "\n",
    "ti = process_time()\n",
    "qss = QuantumState(n)\n",
    "for _ in tqdm(range(10000)):\n",
    "    \n",
    "    i = np.random.randint(0,int(n/4)); j = np.random.randint(int(n/4)+1, int(2*n/4)) % n\n",
    "    k = np.random.randint(int(2*n/4)+1, 3*n/4) % n ; l = np.random.randint(int(3*n/4)+1, n) % n  \n",
    "    \n",
    "    ParametricPauliRotation([i,j,k,l],[1,1,1,1],np.random.uniform(low=0,high= 2*np.pi)).update_quantum_state(qss)\n",
    "        \n",
    "\n",
    "\n",
    "print(' time ', process_time() - ti )"
   ]
  },
  {
   "cell_type": "code",
   "execution_count": 44,
   "metadata": {},
   "outputs": [],
   "source": [
    "s = ParametricPauliRotation([1],[1], 1.0)"
   ]
  },
  {
   "cell_type": "code",
   "execution_count": 45,
   "metadata": {},
   "outputs": [],
   "source": [
    "s.update_quantum_state(qs)"
   ]
  },
  {
   "cell_type": "code",
   "execution_count": 49,
   "metadata": {},
   "outputs": [],
   "source": [
    "g = qc.get_gate(4)"
   ]
  },
  {
   "cell_type": "code",
   "execution_count": 50,
   "metadata": {},
   "outputs": [],
   "source": [
    "g.update_quantum_state(qs)"
   ]
  },
  {
   "cell_type": "code",
   "execution_count": null,
   "metadata": {},
   "outputs": [],
   "source": []
  }
 ],
 "metadata": {
  "kernelspec": {
   "display_name": "Python 3",
   "language": "python",
   "name": "python3"
  },
  "language_info": {
   "codemirror_mode": {
    "name": "ipython",
    "version": 3
   },
   "file_extension": ".py",
   "mimetype": "text/x-python",
   "name": "python",
   "nbconvert_exporter": "python",
   "pygments_lexer": "ipython3",
   "version": "3.10.6"
  },
  "orig_nbformat": 4,
  "vscode": {
   "interpreter": {
    "hash": "916dbcbb3f70747c44a77c7bcd40155683ae19c65e1c03b4aa3499c5328201f1"
   }
  }
 },
 "nbformat": 4,
 "nbformat_minor": 2
}
