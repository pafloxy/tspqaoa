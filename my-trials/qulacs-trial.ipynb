{
 "cells": [
  {
   "cell_type": "code",
   "execution_count": 2,
   "metadata": {},
   "outputs": [],
   "source": [
    "from qulacs import ParametricQuantumCircuit, QuantumState, QuantumCircuit, QuantumCircuitSimulator\n",
    "import numpy as np"
   ]
  },
  {
   "cell_type": "code",
   "execution_count": 13,
   "metadata": {},
   "outputs": [],
   "source": [
    "n = 2; \n",
    "pqc = ParametricQuantumCircuit(n)\n",
    "pqc.add_parametric_RX_gate(0, np.pi / 3)\n",
    "pqc.add_parametric_RX_gate(0, np.pi / 6)\n",
    "target= [0,1]; pauli_id= [1,1]\n",
    "pqc.add_parametric_multi_Pauli_rotation_gate(target, pauli_id, np.pi / 5)"
   ]
  },
  {
   "cell_type": "code",
   "execution_count": 19,
   "metadata": {},
   "outputs": [
    {
     "data": {
      "text/plain": [
       "1.0471975511965976"
      ]
     },
     "execution_count": 19,
     "metadata": {},
     "output_type": "execute_result"
    }
   ],
   "source": []
  },
  {
   "cell_type": "code",
   "execution_count": 12,
   "metadata": {},
   "outputs": [
    {
     "name": "stdout",
     "output_type": "stream",
     "text": [
      "*** Quantum Circuit Info ***\n",
      "# of qubit: 2\n",
      "# of step : 3\n",
      "# of gate : 3\n",
      "# of 1 qubit gate: 2\n",
      "# of 2 qubit gate: 1\n",
      "Clifford  : no\n",
      "Gaussian  : no\n",
      "\n",
      "*** Parameter Info ***\n",
      "# of parameter: 3\n",
      "\n"
     ]
    }
   ],
   "source": [
    "print(pqc)"
   ]
  },
  {
   "cell_type": "code",
   "execution_count": 23,
   "metadata": {},
   "outputs": [],
   "source": [
    "state = QuantumState(n)\n",
    "state.set_zero_state()\n",
    "\n",
    "pqc.update_quantum_state(state)"
   ]
  },
  {
   "cell_type": "code",
   "execution_count": 24,
   "metadata": {},
   "outputs": [
    {
     "name": "stdout",
     "output_type": "stream",
     "text": [
      "[ 0.67249851+0.j          0.        +0.67249851j -0.21850801+0.j\n",
      "  0.        +0.21850801j]\n"
     ]
    }
   ],
   "source": [
    "print(state.get_vector())"
   ]
  },
  {
   "cell_type": "code",
   "execution_count": null,
   "metadata": {},
   "outputs": [],
   "source": []
<<<<<<< HEAD
  },
  {
   "attachments": {},
   "cell_type": "markdown",
   "metadata": {},
   "source": [
    "#### **qaoa circuits**"
   ]
  },
  {
   "cell_type": "code",
   "execution_count": null,
   "metadata": {},
   "outputs": [],
   "source": [
    "import networkx as nx"
   ]
  },
  {
   "cell_type": "code",
   "execution_count": 25,
   "metadata": {},
   "outputs": [],
   "source": [
    "def get_tsp_cost_operator_circuit(\n",
    "    G, gamma, pen, encoding=\"onehot\", structure=\"controlled z\"):\n",
    "    \"\"\"\n",
    "    Generates a circuit for the TSP phase unitary with optional penalty.\n",
    "\n",
    "    Parameters\n",
    "    ----------\n",
    "    G : networkx.Graph\n",
    "        Graph to solve TSP on\n",
    "    gamma :\n",
    "        QAOA parameter gamma\n",
    "    pen :\n",
    "        Penalty for edges with no roads\n",
    "    encoding : string, default \"onehot\"\n",
    "        Type of encoding for the city ordering\n",
    "\n",
    "    Returns\n",
    "    -------\n",
    "    qc : qiskit.QuantumCircuit\n",
    "        Quantum circuit implementing the TSP phase unitary\n",
    "    \"\"\"\n",
    "    if encoding == \"onehot\" and structure == \"zz rotation\":\n",
    "        N = G.number_of_nodes()\n",
    "        if not nx.is_weighted(G):\n",
    "            raise ValueError(\"Provided graph is not weighted\")\n",
    "        qc = QuantumCircuit(N**2)\n",
    "        for n in range(N): # cycle over all cities in the input ordering\n",
    "            for u in range(N):\n",
    "                for v in range(N): #road from city v to city u\n",
    "                    q1 = (n*N + u) % (N**2)\n",
    "                    q2 = ((n+1)*N + v) % (N**2)\n",
    "                    if G.has_edge(u, v):\n",
    "                        append_zz_term(qc, q1, q2, gamma * G[u][v][\"weight\"])\n",
    "                    else:\n",
    "                        append_zz_term(qc, q1, q2, gamma * pen)\n",
    "        return qc\n",
    "    if encoding == \"onehot\" and structure == \"controlled z\":\n",
    "        N = G.number_of_nodes()\n",
    "        if not nx.is_weighted(G):\n",
    "            raise ValueError(\"Provided graph is not weighted\")\n",
    "        qc = QuantumCircuit(N**2)\n",
    "        for n in range(N): # cycle over all cities in the input ordering\n",
    "            for u in range(N):\n",
    "                for v in range(N): #road from city v to city u\n",
    "                    q1 = (n*N + u) % (N**2)\n",
    "                    q2 = ((n+1)*N + v) % (N**2)\n",
    "                    if G.has_edge(u, v):\n",
    "                        qc.crz(gamma * G[u][v][\"weight\"], q1, q2)\n",
    "                    else:\n",
    "                        qc.crz(gamma * pen, q1, q2)\n",
    "        return qc\n"
   ]
  },
  {
   "cell_type": "code",
   "execution_count": null,
   "metadata": {},
   "outputs": [],
   "source": []
=======
>>>>>>> origin
  }
 ],
 "metadata": {
  "kernelspec": {
   "display_name": "Python 3",
   "language": "python",
   "name": "python3"
  },
  "language_info": {
   "codemirror_mode": {
    "name": "ipython",
    "version": 3
   },
   "file_extension": ".py",
   "mimetype": "text/x-python",
   "name": "python",
   "nbconvert_exporter": "python",
   "pygments_lexer": "ipython3",
<<<<<<< HEAD
   "version": "3.10.6 (main, Nov 14 2022, 16:10:14) [GCC 11.3.0]"
=======
   "version": "3.10.6"
>>>>>>> origin
  },
  "orig_nbformat": 4,
  "vscode": {
   "interpreter": {
    "hash": "916dbcbb3f70747c44a77c7bcd40155683ae19c65e1c03b4aa3499c5328201f1"
   }
  }
 },
 "nbformat": 4,
 "nbformat_minor": 2
}
