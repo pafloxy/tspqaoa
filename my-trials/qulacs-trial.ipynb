{
 "cells": [
  {
   "cell_type": "code",
   "execution_count": 6,
   "metadata": {},
   "outputs": [],
   "source": [
    "from qulacs import ParametricQuantumCircuit, QuantumState, QuantumCircuit, QuantumCircuitSimulator\n",
    "import numpy as np"
   ]
  },
  {
   "cell_type": "code",
   "execution_count": 10,
   "metadata": {},
   "outputs": [],
   "source": [
    "n = 3; \n",
    "pqc = ParametricQuantumCircuit(n)\n",
    "pqc.add_parametric_RX_gate(0, np.pi / 3)\n",
    "pqc.add_parametric_RX_gate(0, np.pi / 6)\n",
    "target= [0,1]; pauli_id= [1,1]\n",
    "pqc.add_parametric_multi_Pauli_rotation_gate(target, pauli_id, np.pi / 5)"
   ]
  },
  {
   "cell_type": "code",
   "execution_count": null,
   "metadata": {},
   "outputs": [],
   "source": []
  },
  {
   "cell_type": "code",
   "execution_count": 11,
   "metadata": {},
   "outputs": [
    {
     "name": "stdout",
     "output_type": "stream",
     "text": [
      "*** Quantum Circuit Info ***\n",
      "# of qubit: 3\n",
      "# of step : 3\n",
      "# of gate : 3\n",
      "# of 1 qubit gate: 2\n",
      "# of 2 qubit gate: 1\n",
      "Clifford  : no\n",
      "Gaussian  : no\n",
      "\n",
      "*** Parameter Info ***\n",
      "# of parameter: 3\n",
      "\n"
     ]
    }
   ],
   "source": [
    "print(pqc)"
   ]
  },
  {
   "cell_type": "code",
   "execution_count": 12,
   "metadata": {},
   "outputs": [],
   "source": [
    "pqc1 = ParametricQuantumCircuit(n)\n",
    "pqc1.add_parametric_RZ_gate(1, np.pi / 5)\n",
    "pqc1.add_parametric_RZ_gate(2, np.pi / 5)"
   ]
  },
  {
   "cell_type": "code",
   "execution_count": 13,
   "metadata": {},
   "outputs": [],
   "source": [
    "pqc.merge_circuit(pqc1)"
   ]
  },
  {
   "cell_type": "code",
   "execution_count": 14,
   "metadata": {},
   "outputs": [
    {
     "name": "stdout",
     "output_type": "stream",
     "text": [
      "*** Quantum Circuit Info ***\n",
      "# of qubit: 3\n",
      "# of step : 4\n",
      "# of gate : 5\n",
      "# of 1 qubit gate: 4\n",
      "# of 2 qubit gate: 1\n",
      "Clifford  : no\n",
      "Gaussian  : no\n",
      "\n",
      "*** Parameter Info ***\n",
      "# of parameter: 5\n",
      "\n"
     ]
    }
   ],
   "source": [
    "print(pqc)"
   ]
  },
  {
   "cell_type": "code",
   "execution_count": 23,
   "metadata": {},
   "outputs": [
    {
     "name": "stdout",
     "output_type": "stream",
     "text": [
      "0 1.0471975511965976\n",
      "1 0.5235987755982988\n",
      "2 0.6283185307179586\n",
      "3 0.6283185307179586\n",
      "4 0.6283185307179586\n"
     ]
    }
   ],
   "source": [
    "# i = 2\n",
    "for i in range(pqc.get_parameter_count()): print(pqc.get_parametric_gate_position(i), pqc.get_parameter(i))"
   ]
  },
  {
   "cell_type": "code",
   "execution_count": 18,
   "metadata": {},
   "outputs": [
    {
     "data": {
      "text/plain": [
       "5"
      ]
     },
     "execution_count": 18,
     "metadata": {},
     "output_type": "execute_result"
    }
   ],
   "source": [
    "pqc.get_parameter_count()"
   ]
  },
  {
   "cell_type": "code",
   "execution_count": 4,
   "metadata": {},
   "outputs": [],
   "source": [
    "state = QuantumState(n)\n",
    "state.set_zero_state()\n",
    "\n",
    "pqc.update_quantum_state(state)"
   ]
  },
  {
   "cell_type": "code",
   "execution_count": 5,
   "metadata": {},
   "outputs": [
    {
     "name": "stdout",
     "output_type": "stream",
     "text": [
      "[ 0.67249851+0.j          0.        +0.67249851j -0.21850801+0.j\n",
      "  0.        +0.21850801j]\n"
     ]
    }
   ],
   "source": [
    "print(state.get_vector())"
   ]
  },
  {
   "cell_type": "code",
   "execution_count": null,
   "metadata": {},
   "outputs": [],
   "source": []
  },
  {
   "cell_type": "code",
   "execution_count": null,
   "metadata": {},
   "outputs": [],
   "source": []
  }
 ],
 "metadata": {
  "kernelspec": {
   "display_name": "Python 3",
   "language": "python",
   "name": "python3"
  },
  "language_info": {
   "codemirror_mode": {
    "name": "ipython",
    "version": 3
   },
   "file_extension": ".py",
   "mimetype": "text/x-python",
   "name": "python",
   "nbconvert_exporter": "python",
   "pygments_lexer": "ipython3",
   "version": "3.10.6 (main, Nov 14 2022, 16:10:14) [GCC 11.3.0]"
  },
  "orig_nbformat": 4,
  "vscode": {
   "interpreter": {
    "hash": "916dbcbb3f70747c44a77c7bcd40155683ae19c65e1c03b4aa3499c5328201f1"
   }
  }
 },
 "nbformat": 4,
 "nbformat_minor": 2
}
